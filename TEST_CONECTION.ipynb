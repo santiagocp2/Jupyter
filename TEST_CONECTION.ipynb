{
 "cells": [
  {
   "cell_type": "code",
   "execution_count": null,
   "id": "639d32c0",
   "metadata": {},
   "outputs": [],
   "source": [
    "import erppeek\n",
    "\n",
    "odoo = erppeek.Client.from_config('test')\n",
    "\n",
    "#TEST\n",
    "\n",
    "emp=odoo.model('hr.employee')"
   ]
  },
  {
   "cell_type": "code",
   "execution_count": null,
   "id": "00417ea4",
   "metadata": {},
   "outputs": [],
   "source": [
    "emp.keys()"
   ]
  },
  {
   "cell_type": "code",
   "execution_count": null,
   "id": "4ef02b1c",
   "metadata": {},
   "outputs": [],
   "source": [
    "emp.fields()"
   ]
  }
 ],
 "metadata": {
  "kernelspec": {
   "display_name": "Python 3 (ipykernel)",
   "language": "python",
   "name": "python3"
  },
  "language_info": {
   "codemirror_mode": {
    "name": "ipython",
    "version": 3
   },
   "file_extension": ".py",
   "mimetype": "text/x-python",
   "name": "python",
   "nbconvert_exporter": "python",
   "pygments_lexer": "ipython3",
   "version": "3.9.5"
  }
 },
 "nbformat": 4,
 "nbformat_minor": 5
}
